{
 "cells": [
  {
   "cell_type": "code",
   "execution_count": 29,
   "metadata": {
    "collapsed": true,
    "ExecuteTime": {
     "end_time": "2025-04-08T13:08:27.866486Z",
     "start_time": "2025-04-08T13:08:27.861900Z"
    }
   },
   "outputs": [],
   "source": [
    "import json\n",
    "import time\n",
    "from typing import Dict, List\n",
    "\n",
    "import requests\n",
    "\n",
    "BASE_URL = \"https://api.ai71.ai/v1/\""
   ]
  },
  {
   "cell_type": "code",
   "execution_count": 30,
   "outputs": [],
   "source": [
    "API_KEY = \"ai71-api-b1e07fa1-d007-41cd-8306-85fc952e12a6\""
   ],
   "metadata": {
    "collapsed": false,
    "ExecuteTime": {
     "end_time": "2025-04-08T13:08:28.495456Z",
     "start_time": "2025-04-08T13:08:28.492552Z"
    }
   }
  },
  {
   "cell_type": "code",
   "execution_count": 31,
   "outputs": [],
   "source": [
    "def check_budget():\n",
    "    resp = requests.get(\n",
    "        f\"{BASE_URL}check_budget\",\n",
    "        headers={\"Authorization\": f\"Bearer {API_KEY}\"},\n",
    "    )\n",
    "    resp.raise_for_status()\n",
    "    print(json.dumps(resp.json(), indent=4))"
   ],
   "metadata": {
    "collapsed": false,
    "ExecuteTime": {
     "end_time": "2025-04-08T13:08:29.022199Z",
     "start_time": "2025-04-08T13:08:29.018412Z"
    }
   }
  },
  {
   "cell_type": "code",
   "execution_count": 40,
   "outputs": [
    {
     "name": "stdout",
     "output_type": "stream",
     "text": [
      "{\n",
      "    \"remaining_budget\": 9995\n",
      "}\n"
     ]
    }
   ],
   "source": [
    "check_budget()"
   ],
   "metadata": {
    "collapsed": false,
    "ExecuteTime": {
     "end_time": "2025-04-08T13:20:13.214757Z",
     "start_time": "2025-04-08T13:20:12.689103Z"
    }
   }
  },
  {
   "cell_type": "code",
   "execution_count": 33,
   "outputs": [],
   "source": [
    "def bulk_generate(n_questions: int, question_categorizations: List[Dict], user_categorizations: List[Dict]):\n",
    "    resp = requests.post(\n",
    "        f\"{BASE_URL}bulk_generation\",\n",
    "        headers={\"Authorization\": f\"Bearer {API_KEY}\"},\n",
    "        json={\n",
    "                \"n_questions\": n_questions,\n",
    "                \"question_categorizations\": question_categorizations,\n",
    "                \"user_categorizations\": user_categorizations\n",
    "            }\n",
    "    )\n",
    "    resp.raise_for_status()\n",
    "    request_id = resp.json()[\"request_id\"]\n",
    "    print(json.dumps(resp.json(), indent=4))\n",
    "\n",
    "    result = wait_for_generation_to_finish(request_id)\n",
    "    return result\n",
    "\n",
    "\n",
    "def wait_for_generation_to_finish(request_id: str):\n",
    "    while True:\n",
    "        resp = requests.get(\n",
    "            f\"{BASE_URL}fetch_generation_results\",\n",
    "            headers={\"Authorization\": f\"Bearer {API_KEY}\"},\n",
    "            params={\"request_id\": request_id},\n",
    "        )\n",
    "        resp.raise_for_status()\n",
    "        if resp.json()[\"status\"] == \"completed\":\n",
    "            print(json.dumps(resp.json(), indent=4))\n",
    "            return resp.json()\n",
    "        else:\n",
    "            print(\"Waiting for generation to finish...\")\n",
    "            time.sleep(5)"
   ],
   "metadata": {
    "collapsed": false,
    "ExecuteTime": {
     "end_time": "2025-04-08T13:08:33.100709Z",
     "start_time": "2025-04-08T13:08:33.095235Z"
    }
   }
  },
  {
   "cell_type": "code",
   "execution_count": 34,
   "outputs": [],
   "source": [
    "question_length_categorization = {\n",
    "    \"categorization_name\": \"question_length\",\n",
    "    \"categories\": [\n",
    "        {\n",
    "            \"name\": \"short\",\n",
    "            \"description\": \"a short question with no more than 6 words.\",\n",
    "            \"probability\": 0.4\n",
    "        },\n",
    "        {\n",
    "            \"name\": \"long\",\n",
    "            \"description\": \"a long question with at least 7 words.\",\n",
    "            \"probability\": 0.6\n",
    "        }\n",
    "    ]\n",
    "}\n",
    "\n",
    "question_formulation_categorization = {\n",
    "    \"categorization_name\": \"question_formulation\",\n",
    "    \"categories\": [\n",
    "        {\n",
    "            \"name\": \"natural\",\n",
    "            \"description\": \"phrased in the way people typically speak, reflecting everyday language use, without formal or artificial structure.\",\n",
    "            \"probability\": 0.8\n",
    "        },\n",
    "        {\n",
    "            \"name\": \"search query\",\n",
    "            \"description\": \"phrased as a typed web query for search engines (only keywords, without punctuation and without a natural-sounding structure).\",\n",
    "            \"probability\": 0.2\n",
    "        }\n",
    "    ]\n",
    "}\n",
    "\n",
    "user_expertise_categorization = {\n",
    "    \"categorization_name\": \"user_expertise\",\n",
    "    \"categories\": [\n",
    "        {\n",
    "            \"name\": \"expert\",\n",
    "            \"description\": \"an expert of the subject discussed in the document, therefore he asks complex questions.\",\n",
    "            \"probability\": 0.8\n",
    "        },\n",
    "        {\n",
    "        \"name\": \"common person\",\n",
    "            \"description\": \"a common person who is not expert of the subject discussed in the document, therefore he asks basic questions.\",\n",
    "            \"probability\": 0.2\n",
    "        }\n",
    "    ]\n",
    "}\n",
    "\n",
    "multi_doc_categorization = {\n",
    "    \"categorization_name\": \"multi-doc\",\n",
    "    \"categories\": [\n",
    "        {\n",
    "            \"name\": \"comparison\",\n",
    "            \"description\": \"a comparison question that requires comparing two related concepts or entities. The comparison must be natural and reasonable, i.e., comparing two entities by a common attribute which is meaningful and relevant to both entities. For example: 'Who is older, Glenn Hughes or Ross Lynch?', 'Are Pizhou and Jiujiang in the same province?', 'Pyotr Ilyich Tchaikovsky and Giuseppe Verdi have this profession in common'. The information required to answer the question needs to come from two documents, specifically, the first document must provide information about the first entity/concept, while the second must provide information about the second entity/concept.\",\n",
    "            \"probability\": 0.5,\n",
    "            \"is_multi_doc\": True\n",
    "        },\n",
    "        {\n",
    "            \"name\": \"multi-aspect\",\n",
    "            \"description\": \"A question about two different aspects of the same entity/concept. For example: 'What are the advantages of AI-powered diagnostics, and what are the associated risks of bias in medical decision-making?', 'How do cryptocurrencies enable financial inclusion, and what are the security risks associated with them?'. The information required to answer the question needs to come from two documents, specifically, the first document must provide information about the first aspect, while the second must provide information about the second aspect.\",\n",
    "            \"probability\": 0.5,\n",
    "            \"is_multi_doc\": True\n",
    "        }\n",
    "    ]\n",
    "}"
   ],
   "metadata": {
    "collapsed": false,
    "ExecuteTime": {
     "end_time": "2025-04-08T13:08:34.969862Z",
     "start_time": "2025-04-08T13:08:34.965466Z"
    }
   }
  },
  {
   "cell_type": "code",
   "execution_count": 41,
   "outputs": [
    {
     "ename": "HTTPError",
     "evalue": "429 Client Error: Too Many Requests for url: https://api.ai71.ai/v1/bulk_generation",
     "output_type": "error",
     "traceback": [
      "\u001B[0;31m---------------------------------------------------------------------------\u001B[0m",
      "\u001B[0;31mHTTPError\u001B[0m                                 Traceback (most recent call last)",
      "Cell \u001B[0;32mIn[41], line 1\u001B[0m\n\u001B[0;32m----> 1\u001B[0m results \u001B[38;5;241m=\u001B[39m \u001B[43mbulk_generate\u001B[49m\u001B[43m(\u001B[49m\u001B[43mn_questions\u001B[49m\u001B[38;5;241;43m=\u001B[39;49m\u001B[38;5;241;43m10\u001B[39;49m\u001B[43m,\u001B[49m\n\u001B[1;32m      2\u001B[0m \u001B[43m                         \u001B[49m\u001B[43mquestion_categorizations\u001B[49m\u001B[38;5;241;43m=\u001B[39;49m\u001B[43m[\u001B[49m\u001B[43mquestion_length_categorization\u001B[49m\u001B[43m,\u001B[49m\u001B[43m \u001B[49m\u001B[43mquestion_formulation_categorization\u001B[49m\u001B[43m]\u001B[49m\u001B[43m,\u001B[49m\n\u001B[1;32m      3\u001B[0m \u001B[43m                         \u001B[49m\u001B[43muser_categorizations\u001B[49m\u001B[38;5;241;43m=\u001B[39;49m\u001B[43m[\u001B[49m\u001B[43muser_expertise_categorization\u001B[49m\u001B[43m]\u001B[49m\n\u001B[1;32m      4\u001B[0m \u001B[43m                         \u001B[49m\u001B[43m)\u001B[49m\n",
      "Cell \u001B[0;32mIn[33], line 11\u001B[0m, in \u001B[0;36mbulk_generate\u001B[0;34m(n_questions, question_categorizations, user_categorizations)\u001B[0m\n\u001B[1;32m      1\u001B[0m \u001B[38;5;28;01mdef\u001B[39;00m\u001B[38;5;250m \u001B[39m\u001B[38;5;21mbulk_generate\u001B[39m(n_questions: \u001B[38;5;28mint\u001B[39m, question_categorizations: List[Dict], user_categorizations: List[Dict]):\n\u001B[1;32m      2\u001B[0m     resp \u001B[38;5;241m=\u001B[39m requests\u001B[38;5;241m.\u001B[39mpost(\n\u001B[1;32m      3\u001B[0m         \u001B[38;5;124mf\u001B[39m\u001B[38;5;124m\"\u001B[39m\u001B[38;5;132;01m{\u001B[39;00mBASE_URL\u001B[38;5;132;01m}\u001B[39;00m\u001B[38;5;124mbulk_generation\u001B[39m\u001B[38;5;124m\"\u001B[39m,\n\u001B[1;32m      4\u001B[0m         headers\u001B[38;5;241m=\u001B[39m{\u001B[38;5;124m\"\u001B[39m\u001B[38;5;124mAuthorization\u001B[39m\u001B[38;5;124m\"\u001B[39m: \u001B[38;5;124mf\u001B[39m\u001B[38;5;124m\"\u001B[39m\u001B[38;5;124mBearer \u001B[39m\u001B[38;5;132;01m{\u001B[39;00mAPI_KEY\u001B[38;5;132;01m}\u001B[39;00m\u001B[38;5;124m\"\u001B[39m},\n\u001B[0;32m   (...)\u001B[0m\n\u001B[1;32m      9\u001B[0m             }\n\u001B[1;32m     10\u001B[0m     )\n\u001B[0;32m---> 11\u001B[0m     \u001B[43mresp\u001B[49m\u001B[38;5;241;43m.\u001B[39;49m\u001B[43mraise_for_status\u001B[49m\u001B[43m(\u001B[49m\u001B[43m)\u001B[49m\n\u001B[1;32m     12\u001B[0m     request_id \u001B[38;5;241m=\u001B[39m resp\u001B[38;5;241m.\u001B[39mjson()[\u001B[38;5;124m\"\u001B[39m\u001B[38;5;124mrequest_id\u001B[39m\u001B[38;5;124m\"\u001B[39m]\n\u001B[1;32m     13\u001B[0m     \u001B[38;5;28mprint\u001B[39m(json\u001B[38;5;241m.\u001B[39mdumps(resp\u001B[38;5;241m.\u001B[39mjson(), indent\u001B[38;5;241m=\u001B[39m\u001B[38;5;241m4\u001B[39m))\n",
      "File \u001B[0;32m~/miniforge3/envs/NoobRAG/lib/python3.12/site-packages/requests/models.py:1024\u001B[0m, in \u001B[0;36mResponse.raise_for_status\u001B[0;34m(self)\u001B[0m\n\u001B[1;32m   1019\u001B[0m     http_error_msg \u001B[38;5;241m=\u001B[39m (\n\u001B[1;32m   1020\u001B[0m         \u001B[38;5;124mf\u001B[39m\u001B[38;5;124m\"\u001B[39m\u001B[38;5;132;01m{\u001B[39;00m\u001B[38;5;28mself\u001B[39m\u001B[38;5;241m.\u001B[39mstatus_code\u001B[38;5;132;01m}\u001B[39;00m\u001B[38;5;124m Server Error: \u001B[39m\u001B[38;5;132;01m{\u001B[39;00mreason\u001B[38;5;132;01m}\u001B[39;00m\u001B[38;5;124m for url: \u001B[39m\u001B[38;5;132;01m{\u001B[39;00m\u001B[38;5;28mself\u001B[39m\u001B[38;5;241m.\u001B[39murl\u001B[38;5;132;01m}\u001B[39;00m\u001B[38;5;124m\"\u001B[39m\n\u001B[1;32m   1021\u001B[0m     )\n\u001B[1;32m   1023\u001B[0m \u001B[38;5;28;01mif\u001B[39;00m http_error_msg:\n\u001B[0;32m-> 1024\u001B[0m     \u001B[38;5;28;01mraise\u001B[39;00m HTTPError(http_error_msg, response\u001B[38;5;241m=\u001B[39m\u001B[38;5;28mself\u001B[39m)\n",
      "\u001B[0;31mHTTPError\u001B[0m: 429 Client Error: Too Many Requests for url: https://api.ai71.ai/v1/bulk_generation"
     ]
    }
   ],
   "source": [
    "results = bulk_generate(n_questions=10,\n",
    "                         question_categorizations=[question_length_categorization, question_formulation_categorization],\n",
    "                         user_categorizations=[user_expertise_categorization]\n",
    "                         )"
   ],
   "metadata": {
    "collapsed": false,
    "ExecuteTime": {
     "end_time": "2025-04-08T13:21:35.557514Z",
     "start_time": "2025-04-08T13:21:34.919429Z"
    }
   }
  },
  {
   "cell_type": "code",
   "execution_count": 42,
   "outputs": [
    {
     "ename": "HTTPError",
     "evalue": "500 Server Error: Internal Server Error for url: https://api.ai71.ai/v1/fetch_generation_results?request_id=94488cb2-b93d-439f-8259-3c8c280ad44d",
     "output_type": "error",
     "traceback": [
      "\u001B[0;31m---------------------------------------------------------------------------\u001B[0m",
      "\u001B[0;31mHTTPError\u001B[0m                                 Traceback (most recent call last)",
      "Cell \u001B[0;32mIn[42], line 1\u001B[0m\n\u001B[0;32m----> 1\u001B[0m result \u001B[38;5;241m=\u001B[39m \u001B[43mwait_for_generation_to_finish\u001B[49m\u001B[43m(\u001B[49m\u001B[38;5;124;43m\"\u001B[39;49m\u001B[38;5;124;43m94488cb2-b93d-439f-8259-3c8c280ad44d\u001B[39;49m\u001B[38;5;124;43m\"\u001B[39;49m\u001B[43m)\u001B[49m\n\u001B[1;32m      2\u001B[0m \u001B[38;5;28mprint\u001B[39m(result)\n",
      "Cell \u001B[0;32mIn[33], line 26\u001B[0m, in \u001B[0;36mwait_for_generation_to_finish\u001B[0;34m(request_id)\u001B[0m\n\u001B[1;32m     20\u001B[0m \u001B[38;5;28;01mwhile\u001B[39;00m \u001B[38;5;28;01mTrue\u001B[39;00m:\n\u001B[1;32m     21\u001B[0m     resp \u001B[38;5;241m=\u001B[39m requests\u001B[38;5;241m.\u001B[39mget(\n\u001B[1;32m     22\u001B[0m         \u001B[38;5;124mf\u001B[39m\u001B[38;5;124m\"\u001B[39m\u001B[38;5;132;01m{\u001B[39;00mBASE_URL\u001B[38;5;132;01m}\u001B[39;00m\u001B[38;5;124mfetch_generation_results\u001B[39m\u001B[38;5;124m\"\u001B[39m,\n\u001B[1;32m     23\u001B[0m         headers\u001B[38;5;241m=\u001B[39m{\u001B[38;5;124m\"\u001B[39m\u001B[38;5;124mAuthorization\u001B[39m\u001B[38;5;124m\"\u001B[39m: \u001B[38;5;124mf\u001B[39m\u001B[38;5;124m\"\u001B[39m\u001B[38;5;124mBearer \u001B[39m\u001B[38;5;132;01m{\u001B[39;00mAPI_KEY\u001B[38;5;132;01m}\u001B[39;00m\u001B[38;5;124m\"\u001B[39m},\n\u001B[1;32m     24\u001B[0m         params\u001B[38;5;241m=\u001B[39m{\u001B[38;5;124m\"\u001B[39m\u001B[38;5;124mrequest_id\u001B[39m\u001B[38;5;124m\"\u001B[39m: request_id},\n\u001B[1;32m     25\u001B[0m     )\n\u001B[0;32m---> 26\u001B[0m     \u001B[43mresp\u001B[49m\u001B[38;5;241;43m.\u001B[39;49m\u001B[43mraise_for_status\u001B[49m\u001B[43m(\u001B[49m\u001B[43m)\u001B[49m\n\u001B[1;32m     27\u001B[0m     \u001B[38;5;28;01mif\u001B[39;00m resp\u001B[38;5;241m.\u001B[39mjson()[\u001B[38;5;124m\"\u001B[39m\u001B[38;5;124mstatus\u001B[39m\u001B[38;5;124m\"\u001B[39m] \u001B[38;5;241m==\u001B[39m \u001B[38;5;124m\"\u001B[39m\u001B[38;5;124mcompleted\u001B[39m\u001B[38;5;124m\"\u001B[39m:\n\u001B[1;32m     28\u001B[0m         \u001B[38;5;28mprint\u001B[39m(json\u001B[38;5;241m.\u001B[39mdumps(resp\u001B[38;5;241m.\u001B[39mjson(), indent\u001B[38;5;241m=\u001B[39m\u001B[38;5;241m4\u001B[39m))\n",
      "File \u001B[0;32m~/miniforge3/envs/NoobRAG/lib/python3.12/site-packages/requests/models.py:1024\u001B[0m, in \u001B[0;36mResponse.raise_for_status\u001B[0;34m(self)\u001B[0m\n\u001B[1;32m   1019\u001B[0m     http_error_msg \u001B[38;5;241m=\u001B[39m (\n\u001B[1;32m   1020\u001B[0m         \u001B[38;5;124mf\u001B[39m\u001B[38;5;124m\"\u001B[39m\u001B[38;5;132;01m{\u001B[39;00m\u001B[38;5;28mself\u001B[39m\u001B[38;5;241m.\u001B[39mstatus_code\u001B[38;5;132;01m}\u001B[39;00m\u001B[38;5;124m Server Error: \u001B[39m\u001B[38;5;132;01m{\u001B[39;00mreason\u001B[38;5;132;01m}\u001B[39;00m\u001B[38;5;124m for url: \u001B[39m\u001B[38;5;132;01m{\u001B[39;00m\u001B[38;5;28mself\u001B[39m\u001B[38;5;241m.\u001B[39murl\u001B[38;5;132;01m}\u001B[39;00m\u001B[38;5;124m\"\u001B[39m\n\u001B[1;32m   1021\u001B[0m     )\n\u001B[1;32m   1023\u001B[0m \u001B[38;5;28;01mif\u001B[39;00m http_error_msg:\n\u001B[0;32m-> 1024\u001B[0m     \u001B[38;5;28;01mraise\u001B[39;00m HTTPError(http_error_msg, response\u001B[38;5;241m=\u001B[39m\u001B[38;5;28mself\u001B[39m)\n",
      "\u001B[0;31mHTTPError\u001B[0m: 500 Server Error: Internal Server Error for url: https://api.ai71.ai/v1/fetch_generation_results?request_id=94488cb2-b93d-439f-8259-3c8c280ad44d"
     ]
    }
   ],
   "source": [
    "result = wait_for_generation_to_finish(\"598d3657-845e-4f05-abf5-a86192a1d2b8\")\n",
    "print(result)"
   ],
   "metadata": {
    "collapsed": false,
    "ExecuteTime": {
     "end_time": "2025-04-08T13:23:17.563370Z",
     "start_time": "2025-04-08T13:23:17.016099Z"
    }
   }
  },
  {
   "cell_type": "code",
   "execution_count": null,
   "outputs": [],
   "source": [],
   "metadata": {
    "collapsed": false
   }
  }
 ],
 "metadata": {
  "kernelspec": {
   "display_name": "Python 3",
   "language": "python",
   "name": "python3"
  },
  "language_info": {
   "codemirror_mode": {
    "name": "ipython",
    "version": 2
   },
   "file_extension": ".py",
   "mimetype": "text/x-python",
   "name": "python",
   "nbconvert_exporter": "python",
   "pygments_lexer": "ipython2",
   "version": "2.7.6"
  }
 },
 "nbformat": 4,
 "nbformat_minor": 0
}
