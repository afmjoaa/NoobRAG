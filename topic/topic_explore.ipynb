{
 "cells": [
  {
   "cell_type": "code",
   "execution_count": 2,
   "metadata": {
    "collapsed": true,
    "ExecuteTime": {
     "end_time": "2025-04-30T13:10:29.069301Z",
     "start_time": "2025-04-30T13:09:54.772741Z"
    }
   },
   "outputs": [
    {
     "name": "stderr",
     "output_type": "stream",
     "text": [
      "04/30/2025 15:09:58 - INFO - \t Found credentials in shared credentials file: ~/.aws/credentials\n",
      "04/30/2025 15:09:59 - INFO - \t Discovering subpackages in _NamespacePath(['/Users/joaa/miniforge3/envs/NoobRAG/lib/python3.12/site-packages/pinecone_plugins'])\n",
      "04/30/2025 15:09:59 - INFO - \t Looking for plugins in pinecone_plugins.inference\n",
      "04/30/2025 15:09:59 - INFO - \t Installing plugin inference into Pinecone\n",
      "04/30/2025 15:09:59 - INFO - \t Discovering subpackages in _NamespacePath(['/Users/joaa/miniforge3/envs/NoobRAG/lib/python3.12/site-packages/pinecone_plugins'])\n",
      "04/30/2025 15:09:59 - INFO - \t Looking for plugins in pinecone_plugins.inference\n",
      "04/30/2025 15:09:59 - INFO - \t Found credentials in shared credentials file: ~/.aws/credentials\n",
      "04/30/2025 15:09:59 - INFO - \t Found credentials in shared credentials file: ~/.aws/credentials\n",
      "04/30/2025 15:10:01 - INFO - \t POST https://search-index01-zc4xlabgpncm3uqmerfedq5nx4.us-east-1.es.amazonaws.com:443/fineweb10bt-512-0w-e5-base-v2/_search [status:200 request:0.582s]\n"
     ]
    },
    {
     "name": "stdout",
     "output_type": "stream",
     "text": [
      "Combined docs :\n",
      " [{'doc_id': '<urn:uuid:0cf75b43-d690-4aa6-b3ca-f488ceb28ed9>', 'text': \"What will the age of Aquarius be like. What is second level consciousness and are we still there? Left and Right Brain technology what is it? part 1\\nSorry we couldn't complete your registration. Please try again.\\nYou must accept the Terms and conditions to register\", 'score': 0.835362315, 'source': 'dense'}, {'doc_id': '<urn:uuid:b6541cf6-d442-454a-9e6f-45eaaa237424>', 'text': 'Title: Left-Brain/Right-Brain Functions\\nPreview: We have two eyes, two ears, two hands, and two minds. Our left brain thinks in terms of words and symbols while our right brain thinks in terms of images. The left side is the side used more by writiers, mathematicians, and scientists; the right side by artists, craftspeople, and musicians. Remembering a persons name is a function of the left-brain memory while rembering their face is a function .......\\nBy aterry (adrienne)\\non September 27, 2012.', 'score': 0.823291481, 'source': 'dense'}, {'doc_id': '<urn:uuid:e4bf2415-2032-4a8a-9c18-715cf2d5f91f>', 'text': 'The legal term for this compensation is “damages.” Exactly what damages you can recover varies from state to state, but you can usually recover:\\n- Past and future medical expenses\\n- Future lost wages (if the injury limits your ability to work in the future)\\n- Property damages\\n- Pain and suffering\\n- Emotional distress\\nReady to contact a lawyer about a possible second impact syndrome case? Use our free online directory to schedule your initial consultation today.\\n- Guide to traumatic brain injuries\\n- Resources to help after a brain injury\\n- How to recognize a brain injury and what you should do about it\\n- Concussions and auto accidents\\n- Rehabilitation and therapy after a brain injury\\n- Second impact syndrome and sports injury lawsuits\\n- Legal guide to brain death\\n- What is CTE?\\n- A loss of oxygen can lead to an anoxic brain injury\\n- Can you recover costs for the accident that caused a brain bleed?\\n- What is the Traumatic Brain Injury Act?\\n- Understanding the Hidden Challenges of Mild Traumatic Brain Injury\\n- What is the Glasgow Coma Scale?', 'score': 0.24633245645981225, 'source': 'sparse'}]\n"
     ]
    },
    {
     "name": "stderr",
     "output_type": "stream",
     "text": [
      "04/30/2025 15:10:05 - INFO - \t missing_keys: []\n",
      "04/30/2025 15:10:05 - INFO - \t unexpected_keys: []\n",
      "04/30/2025 15:10:05 - INFO - \t mismatched_keys: []\n",
      "04/30/2025 15:10:05 - INFO - \t error_msgs: []\n",
      "04/30/2025 15:10:05 - INFO - \t Model Parameters: 590.0M, Transformer: 434.6M, Coref head: 155.4M\n",
      "04/30/2025 15:10:05 - INFO - \t Successfully initialized NLP pipeline with en_core_web_trf and FastCoref\n",
      "04/30/2025 15:10:06 - INFO - \t Tokenize 1 inputs...\n"
     ]
    },
    {
     "data": {
      "text/plain": "Map:   0%|          | 0/1 [00:00<?, ? examples/s]",
      "application/vnd.jupyter.widget-view+json": {
       "version_major": 2,
       "version_minor": 0,
       "model_id": "2efd8262228f412f8c3228855325a7b0"
      }
     },
     "metadata": {},
     "output_type": "display_data"
    },
    {
     "name": "stderr",
     "output_type": "stream",
     "text": [
      "04/30/2025 15:10:07 - INFO - \t ***** Running Inference on 1 texts *****\n"
     ]
    },
    {
     "data": {
      "text/plain": "Inference:   0%|          | 0/1 [00:00<?, ?it/s]",
      "application/vnd.jupyter.widget-view+json": {
       "version_major": 2,
       "version_minor": 0,
       "model_id": "fe23d7881b464c02a595c5730712dae2"
      }
     },
     "metadata": {},
     "output_type": "display_data"
    },
    {
     "name": "stderr",
     "output_type": "stream",
     "text": [
      "04/30/2025 15:10:11 - INFO - \t Tokenize 1 inputs...\n"
     ]
    },
    {
     "data": {
      "text/plain": "Map:   0%|          | 0/1 [00:00<?, ? examples/s]",
      "application/vnd.jupyter.widget-view+json": {
       "version_major": 2,
       "version_minor": 0,
       "model_id": "728dacb0096245dd9d0b2d1d82d6a75e"
      }
     },
     "metadata": {},
     "output_type": "display_data"
    },
    {
     "name": "stderr",
     "output_type": "stream",
     "text": [
      "04/30/2025 15:10:12 - INFO - \t ***** Running Inference on 1 texts *****\n"
     ]
    },
    {
     "data": {
      "text/plain": "Inference:   0%|          | 0/1 [00:00<?, ?it/s]",
      "application/vnd.jupyter.widget-view+json": {
       "version_major": 2,
       "version_minor": 0,
       "model_id": "b22fff272d894225a6d54fa6fa68d684"
      }
     },
     "metadata": {},
     "output_type": "display_data"
    },
    {
     "name": "stderr",
     "output_type": "stream",
     "text": [
      "04/30/2025 15:10:17 - INFO - \t Tokenize 1 inputs...\n"
     ]
    },
    {
     "data": {
      "text/plain": "Map:   0%|          | 0/1 [00:00<?, ? examples/s]",
      "application/vnd.jupyter.widget-view+json": {
       "version_major": 2,
       "version_minor": 0,
       "model_id": "060787dd219f4f919e1b03880a04a67a"
      }
     },
     "metadata": {},
     "output_type": "display_data"
    },
    {
     "name": "stderr",
     "output_type": "stream",
     "text": [
      "04/30/2025 15:10:18 - INFO - \t ***** Running Inference on 1 texts *****\n"
     ]
    },
    {
     "data": {
      "text/plain": "Inference:   0%|          | 0/1 [00:00<?, ?it/s]",
      "application/vnd.jupyter.widget-view+json": {
       "version_major": 2,
       "version_minor": 0,
       "model_id": "2f2035c9438142b6a7f8f82b7fe4f487"
      }
     },
     "metadata": {},
     "output_type": "display_data"
    },
    {
     "name": "stderr",
     "output_type": "stream",
     "text": [
      "04/30/2025 15:10:22 - INFO - \t Use pytorch device_name: mps\n",
      "04/30/2025 15:10:22 - INFO - \t Load pretrained SentenceTransformer: all-MiniLM-L6-v2\n",
      "04/30/2025 15:10:25 - INFO - \t Use pytorch device_name: mps\n",
      "04/30/2025 15:10:25 - INFO - \t Load pretrained SentenceTransformer: all-MiniLM-L6-v2\n",
      "04/30/2025 15:10:26 - INFO - \t Use pytorch device_name: mps\n",
      "04/30/2025 15:10:26 - INFO - \t Load pretrained SentenceTransformer: all-MiniLM-L6-v2\n"
     ]
    },
    {
     "name": "stdout",
     "output_type": "stream",
     "text": [
      "[{'doc_id': '<urn:uuid:0cf75b43-d690-4aa6-b3ca-f488ceb28ed9>', 'text': \"What will the age of Aquarius be like. What is second level consciousness and are we still there? Left and Right Brain technology what is Left and Right Brain technology? part 1\\nSorry we couldn't complete your registration.\", 'score': 0.835362315, 'source': 'dense'}, {'doc_id': '<urn:uuid:0cf75b43-d690-4aa6-b3ca-f488ceb28ed9>', 'text': 'Please try again. You must accept the Terms and conditions to register.', 'score': 0.835362315, 'source': 'dense'}, {'doc_id': '<urn:uuid:b6541cf6-d442-454a-9e6f-45eaaa237424>', 'text': \"Title: Left-Brain/Right-Brain Functions\\nPreview: We have two eyes, two ears, two hands, and two minds. Remembering a persons name is a function of the left-brain memory while rembering a persons's face is a function. By aterry (adrienne)\\non September 27, 2012.\", 'score': 0.823291481, 'source': 'dense'}, {'doc_id': '<urn:uuid:b6541cf6-d442-454a-9e6f-45eaaa237424>', 'text': 'Our left brain thinks in terms of words and symbols while our right brain thinks in terms of images. Our left brain is the side used more by writiers, mathematicians, and scientists; the right side by artists, craftspeople, and musicians.', 'score': 0.823291481, 'source': 'dense'}, {'doc_id': '<urn:uuid:e4bf2415-2032-4a8a-9c18-715cf2d5f91f>', 'text': 'The legal term for this compensation is “damages. ” Exactly what damages you can recover varies from state to state, but you can usually recover:\\n- Past and future medical expenses\\n- Future lost wages (if the injury limits your ability to work in the future)\\n- Property damages\\n- Pain and suffering\\n- Emotional distress\\nReady to contact a lawyer about a possible second impact syndrome case? Use our free online directory to schedule your initial consultation today. - Guide to traumatic brain injuries\\n- Resources to help after a brain injury\\n- How to recognize a brain injury and what you should do about a brain injury\\n- Concussions and auto accidents\\n- Rehabilitation and therapy after a brain injury\\n- Second impact syndrome and sports injury lawsuits\\n- Legal guide to brain death\\n- What is CTE?\\n- A loss of oxygen can lead to an anoxic brain injury\\n- Can you recover costs for the accident that caused a brain bleed?\\n- What is the Traumatic Brain Injury Act?\\n- Understanding the Hidden Challenges of Mild Traumatic Brain Injury\\n- What is the Glasgow Coma Scale?.', 'score': 0.24633245645981225, 'source': 'sparse'}]\n"
     ]
    },
    {
     "name": "stderr",
     "output_type": "stream",
     "text": [
      "/Users/joaa/miniforge3/envs/NoobRAG/lib/python3.12/site-packages/umap/spectral.py:519: RuntimeWarning:\n",
      "\n",
      "k >= N for N * N square matrix. Attempting to use scipy.linalg.eigh instead.\n",
      "\n",
      "/Users/joaa/miniforge3/envs/NoobRAG/lib/python3.12/site-packages/umap/spectral.py:519: RuntimeWarning:\n",
      "\n",
      "k >= N for N * N square matrix. Attempting to use scipy.linalg.eigh instead.\n",
      "\n"
     ]
    }
   ],
   "source": [
    "from topic.topic_segmenter import get_topic_text_with_info\n",
    "\n",
    "print(get_topic_text_with_info())"
   ]
  },
  {
   "cell_type": "code",
   "execution_count": null,
   "outputs": [],
   "source": [],
   "metadata": {
    "collapsed": false
   }
  }
 ],
 "metadata": {
  "kernelspec": {
   "display_name": "Python 3",
   "language": "python",
   "name": "python3"
  },
  "language_info": {
   "codemirror_mode": {
    "name": "ipython",
    "version": 2
   },
   "file_extension": ".py",
   "mimetype": "text/x-python",
   "name": "python",
   "nbconvert_exporter": "python",
   "pygments_lexer": "ipython2",
   "version": "2.7.6"
  }
 },
 "nbformat": 4,
 "nbformat_minor": 0
}
